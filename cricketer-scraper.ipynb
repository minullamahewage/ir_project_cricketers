{
 "cells": [
  {
   "cell_type": "code",
   "execution_count": 1,
   "metadata": {},
   "outputs": [],
   "source": [
    "import requests\n",
    "from bs4 import BeautifulSoup as soup\n",
    "import os, time\n",
    "import json,re\n",
    "import random"
   ]
  },
  {
   "cell_type": "code",
   "execution_count": 58,
   "metadata": {},
   "outputs": [],
   "source": [
    "main_url = \"https://stats.espncricinfo.com/ci/engine/stats/index.html?class=2;filter=advanced;orderby=runs;size=150;spanmin1=01+Jan+1980;spanval1=span;team=8;template=results;type=batting\""
   ]
  },
  {
   "cell_type": "code",
   "execution_count": 59,
   "metadata": {},
   "outputs": [],
   "source": [
    "response = requests.get(\n",
    "    url = main_url,\n",
    ")\n",
    "\n",
    "main_soup = soup(response.content, 'html.parser')"
   ]
  },
  {
   "cell_type": "code",
   "execution_count": 60,
   "metadata": {},
   "outputs": [],
   "source": [
    "cricketers_list_raw = main_soup.find_all('tr', \"data1\")"
   ]
  },
  {
   "cell_type": "code",
   "execution_count": 61,
   "metadata": {},
   "outputs": [],
   "source": [
    "cricketers_list = []\n",
    "for i in range(0,100):\n",
    "    for x in cricketers_list_raw[i].find_all(\"a\", \"data-link\"):\n",
    "        cricketers_list.append({\"name\": x.getText(), \"url\": x.get(\"href\")})\n",
    "    "
   ]
  },
  {
   "cell_type": "code",
   "execution_count": 62,
   "metadata": {},
   "outputs": [],
   "source": [
    "# cricketers_list"
   ]
  },
  {
   "cell_type": "code",
   "execution_count": 63,
   "metadata": {},
   "outputs": [],
   "source": [
    "base_url_player = \"https://stats.espncricinfo.com/\""
   ]
  },
  {
   "cell_type": "code",
   "execution_count": 83,
   "metadata": {},
   "outputs": [],
   "source": [
    "# Filter dictionary keeping necessary fields\n",
    "def filter_dict(di, keys):\n",
    "    if not isinstance(di, (dict, list)):\n",
    "        return di\n",
    "    if isinstance(di, list):\n",
    "        return [filter_dict(value, keys) for value in di]\n",
    "    return {key: filter_dict(value, keys) for key, value in di.items() if key in keys or isinstance(value, (dict, list))}\n"
   ]
  },
  {
   "cell_type": "code",
   "execution_count": 93,
   "metadata": {},
   "outputs": [],
   "source": [
    "player_data_keys = [\"Full Name\", \"Born\", \"Age\", \"Batting Style\", \"Bowling Style\", \"Playing Role\", \"Education\"]\n",
    "def extract_player_data(soup):\n",
    "    player_card = soup.find_all('div', \"player_overview-grid\")\n",
    "    player_details_raw = player_card[0].find_all('div')\n",
    "    player_details = {}\n",
    "    for detail in player_details_raw:\n",
    "        if(detail.p.getText() == \"Fielding Position\"):\n",
    "            continue\n",
    "        player_details[detail.p.getText()] = detail.h5.getText()\n",
    "    if(not \"Bowling Style\" in player_details):\n",
    "        player_details[\"Bowling Style\"] = \"N/A\"\n",
    "    if(not \"Playing Role\" in player_details):\n",
    "        player_details[\"Playing Role\"] = \"N/A\"\n",
    "    # print(player_details[\"Full Name\"])\n",
    "    return filter_dict(player_details, player_data_keys)\n",
    "    "
   ]
  },
  {
   "cell_type": "code",
   "execution_count": 94,
   "metadata": {},
   "outputs": [],
   "source": [
    "def extract_odi_data(soup):\n",
    "    standings_card_raw = soup.find_all(\"div\", \"overflow-hidden\")\n",
    "    tables_raw_check = standings_card_raw[2].find_all(\"h5\")\n",
    "    \n",
    "    # Finding Batting and Bowling tables and extracting the table\n",
    "    for i in range (2):\n",
    "        if(tables_raw_check[i].getText()==\"Batting & Fielding\"):\n",
    "            batting_table_raw = tables_raw_check[i].find_next(\"table\", \"table standings-widget-table text-center mb-0 border-bottom\")\n",
    "        else:\n",
    "            bowling_table_raw = tables_raw_check[i].find_next(\"table\", \"table standings-widget-table text-center mb-0 border-bottom\")\n",
    "\n",
    "    player_values = {}\n",
    "    # Batting Values extraction\n",
    "    # Finding ODI row and extracting the row\n",
    "    batting_table_rows_raw = batting_table_raw.find(\"tbody\").find_all(\"tr\")\n",
    "    for row in batting_table_rows_raw:\n",
    "        if (row.find(\"span\").getText()==\"ODI\"):\n",
    "            batting_table_odi_row = row\n",
    "            break\n",
    "        else:\n",
    "            continue\n",
    "    batting_values_raw = batting_table_odi_row.find_all(\"span\")\n",
    "    player_values[\"Matches\"] = batting_values_raw[1].getText()\n",
    "    player_values[\"Runs\"] = batting_values_raw[4].getText()\n",
    "    player_values[\"Average\"] = batting_values_raw[6].getText()\n",
    "    player_values[\"Half-centuries\"] = batting_values_raw[10].getText()\n",
    "    player_values[\"Centuries\"] = batting_values_raw[9].getText()\n",
    "\n",
    "    # Bowling values extraction\n",
    "    # Finding ODI row and extracting the row\n",
    "    bowling_table_rows_raw = bowling_table_raw.find(\"tbody\").find_all(\"tr\")\n",
    "    for row in bowling_table_rows_raw:\n",
    "        if (row.find(\"span\").getText()==\"ODI\"):\n",
    "            bowling_table_odi_row = row\n",
    "            break\n",
    "        else:\n",
    "            continue\n",
    "    bowling_values_raw = bowling_table_odi_row.find_all(\"span\")\n",
    "    player_values[\"wickets\"] =bowling_values_raw[5].getText() if(bowling_values_raw[5].getText()!=\"-\") else \"N/A\"\n",
    "    player_values[\"economy\"] =bowling_values_raw[9].getText() if(bowling_values_raw[9].getText()!=\"-\") else \"N/A\"\n",
    "    return player_values\n",
    "    "
   ]
  },
  {
   "cell_type": "code",
   "execution_count": 95,
   "metadata": {},
   "outputs": [],
   "source": [
    "# Main Function\n",
    "cricketers = []\n",
    "for i in range(0,100):\n",
    "    # print(i)\n",
    "    player_url = base_url_player + cricketers_list[i][\"url\"]\n",
    "    response = requests.get(\n",
    "    url = player_url,\n",
    "    )\n",
    "    player_soup = soup(response.content, 'html.parser')\n",
    "    player_data = extract_player_data(player_soup) | extract_odi_data(player_soup)\n",
    "    cricketers.append(player_data)"
   ]
  },
  {
   "cell_type": "code",
   "execution_count": 87,
   "metadata": {},
   "outputs": [],
   "source": [
    "# print(cricketers)"
   ]
  },
  {
   "cell_type": "code",
   "execution_count": 96,
   "metadata": {},
   "outputs": [],
   "source": [
    "import pandas as pd\n",
    "\n",
    "my_dict = [ {'type' : 'type_1', 'prob' : 2, 'x_sum' : 3, 'y_sum' : 5},\n",
    " {'type' : 'type_2', 'prob' : 3, 'x_sum' : 8, 'y_sum' : 6}]\n",
    "\n",
    "df = pd.DataFrame(cricketers)\n",
    "from tabulate import tabulate\n",
    "pdtabulate=lambda df:tabulate(df,headers='keys',tablefmt='psql')\n",
    "# print(pdtabulate(df))\n"
   ]
  },
  {
   "cell_type": "code",
   "execution_count": 97,
   "metadata": {},
   "outputs": [],
   "source": [
    "cric = []\n",
    "for cricketer in cricketers:\n",
    "    cric.append({k: cricketer[k] for k in cricketer.keys() & {'Batting Style', 'Bowling Style', 'Playing Role'}})\n",
    "\n",
    "s = set( val for dic in cric for val in dic.values())\n",
    "\n",
    "# for x in s:                                \n",
    "    # print (x)\n",
    "# print (len(s)) "
   ]
  },
  {
   "cell_type": "code",
   "execution_count": null,
   "metadata": {},
   "outputs": [],
   "source": [
    "{\"Left arm fast medium\":\"\",\n",
    "\"Slow left arm orthodox\":\"\",\n",
    "\"Right arm medium fast\": \"දකුණත් මද වේග පන්දු යවන\",\n",
    "\"Legbreak googly\": \"\", \n",
    "\"Legbreak\": \"පා දඟ පන්දු යවන\",\n",
    "\"Left arm medium fast\": \"වමත් මද වේග පන්දු යවන\",\n",
    "Top order batter - ඉදිරි පෙළ පිතිකරු\n",
    "Right hand bat - දකුණත් පිතිකරු\n",
    "Right arm offbreak, Legbreak - දකුණත් දඟ පන්දු හා පා දඟ පන්දු යවන\n",
    "Batter - පිතිකරු\n",
    "Middle order batter - මැද පෙළ පිතිකරු\n",
    "Left hand bat - වමත් පිතිකරු\n",
    "Bowling allrounder - පන්දු යවන තුන් ඉරියව් ක්‍රීඩක\n",
    "Bowler -  පන්දු යවන්නා\n",
    "Wicketkeeper batter - කඩුලු රකින පිතිකරු\n",
    "Batting allrounder - පිතිකරණ තුන් ඉරියව් ක්‍රීඩක\n",
    "N/A\n",
    "Allrounder - තුන් ඉරියව් ක්‍රීඩක\n",
    "Right arm medium - දකුණත් මද පන්දු යවන\n",
    "Left arm medium, Slow left arm orthodox - \n",
    "Right arm offbreak - දකුණත් දඟ පන්දු යවන\n",
    "Right arm fast - දකුණත් වේග පන්දු යවන\n",
    "Opening batter - ආරම්භක පිතිකරු\n",
    "Right arm fast medium -}"
   ]
  }
 ],
 "metadata": {
  "interpreter": {
   "hash": "1cf92cd971cc1b8af2aa66d33e64d70b604c3f84fab400acfa2263992fcda2d7"
  },
  "kernelspec": {
   "display_name": "Python 3.9.6 64-bit ('gpu2': conda)",
   "name": "python3"
  },
  "language_info": {
   "codemirror_mode": {
    "name": "ipython",
    "version": 3
   },
   "file_extension": ".py",
   "mimetype": "text/x-python",
   "name": "python",
   "nbconvert_exporter": "python",
   "pygments_lexer": "ipython3",
   "version": "3.9.6"
  },
  "orig_nbformat": 4
 },
 "nbformat": 4,
 "nbformat_minor": 2
}
