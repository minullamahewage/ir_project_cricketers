{
 "cells": [
  {
   "cell_type": "code",
   "execution_count": 41,
   "metadata": {},
   "outputs": [],
   "source": [
    "import requests\n",
    "from bs4 import BeautifulSoup as soup\n",
    "import os, time\n",
    "import json,re\n",
    "import random"
   ]
  },
  {
   "cell_type": "code",
   "execution_count": 42,
   "metadata": {},
   "outputs": [],
   "source": [
    "main_url = \"https://stats.espncricinfo.com/ci/engine/stats/index.html?class=11;filter=advanced;orderby=runs;size=150;team=8;template=results;type=batting\""
   ]
  },
  {
   "cell_type": "code",
   "execution_count": 43,
   "metadata": {},
   "outputs": [],
   "source": [
    "response = requests.get(\n",
    "    url = main_url,\n",
    ")\n",
    "\n",
    "main_soup = soup(response.content, 'html.parser')"
   ]
  },
  {
   "cell_type": "code",
   "execution_count": 44,
   "metadata": {},
   "outputs": [],
   "source": [
    "cricketers_list_raw = main_soup.find_all('tr', \"data1\")"
   ]
  },
  {
   "cell_type": "code",
   "execution_count": 53,
   "metadata": {},
   "outputs": [],
   "source": [
    "cricketers_list = []\n",
    "for i in range(0,100):\n",
    "    for x in cricketers_list_raw[i].find_all(\"a\", \"data-link\"):\n",
    "        cricketers_list.append({\"name\": x.getText(), \"url\": x.get(\"href\")})\n",
    "    "
   ]
  },
  {
   "cell_type": "code",
   "execution_count": 60,
   "metadata": {},
   "outputs": [],
   "source": [
    "# cricketers_list"
   ]
  },
  {
   "cell_type": "code",
   "execution_count": 55,
   "metadata": {},
   "outputs": [],
   "source": [
    "base_url_player = \"https://stats.espncricinfo.com/\""
   ]
  },
  {
   "cell_type": "code",
   "execution_count": 185,
   "metadata": {},
   "outputs": [],
   "source": [
    "# Filter dictionary keeping necessary fields\n",
    "def filter_dict(di, keys):\n",
    "    if not isinstance(di, (dict, list)):\n",
    "        return di\n",
    "    if isinstance(di, list):\n",
    "        return [filter_dict(value, keys) for value in di]\n",
    "    return {key: filter_dict(value, keys) for key, value in di.items() if key in keys or isinstance(value, (dict, list))}\n"
   ]
  },
  {
   "cell_type": "code",
   "execution_count": 242,
   "metadata": {},
   "outputs": [],
   "source": [
    "player_data_keys = [\"Full Name\", \"Born\", \"Age\", \"Batting Style\", \"Bowling Style\", \"Playing Role\"]\n",
    "def extract_player_data(soup):\n",
    "    player_card = soup.find_all('div', \"player_overview-grid\")\n",
    "    player_details_raw = player_card[0].find_all('div')\n",
    "    player_details = {}\n",
    "    for detail in player_details_raw:\n",
    "        if(detail.p.getText() == \"Fielding Position\"):\n",
    "            continue\n",
    "        player_details[detail.p.getText()] = detail.h5.getText()\n",
    "    if(not \"Bowling Style\" in player_details):\n",
    "        player_details[\"Bowling Style\"] = \"N/A\"\n",
    "    if(not \"Playing Role\" in player_details):\n",
    "        player_details[\"Playing Role\"] = \"N/A\"\n",
    "    # print(player_details[\"Full Name\"])\n",
    "    return filter_dict(player_details, player_data_keys)\n",
    "    "
   ]
  },
  {
   "cell_type": "code",
   "execution_count": 243,
   "metadata": {},
   "outputs": [],
   "source": [
    "def extract_odi_data(soup):\n",
    "    standings_card_raw = soup.find_all(\"div\", \"overflow-hidden\")\n",
    "    tables_raw = standings_card_raw[2].find_all(\"table\", \"table standings-widget-table text-center mb-0 border-bottom\")\n",
    "    # print(standings_card_raw[2].prettify())\n",
    "    batting_table_raw = tables_raw[0]\n",
    "    bowling_table_raw = tables_raw[1]\n",
    "    player_values = {}\n",
    "    # Batting Values extraction\n",
    "    batting_table_odi_row = batting_table_raw.find(\"tr\", \"fix-second-child-color\")\n",
    "    batting_values_raw = batting_table_odi_row.find_all(\"span\")\n",
    "    player_values[\"Matches\"] = batting_values_raw[1].getText()\n",
    "    player_values[\"Runs\"] = batting_values_raw[4].getText()\n",
    "    player_values[\"Average\"] = batting_values_raw[6].getText()\n",
    "    player_values[\"Half-centuries\"] = batting_values_raw[10].getText()\n",
    "    player_values[\"Centuries\"] = batting_values_raw[9].getText()\n",
    "    # Bowling values extraction\n",
    "    bowling_table_odi_row = bowling_table_raw.find(\"tr\", \"fix-second-child-color\")\n",
    "    bowling_values_raw = bowling_table_odi_row.find_all(\"span\")\n",
    "    player_values[\"wickets\"] =bowling_values_raw[5].getText() if(bowling_values_raw[5].getText()!=\"-\") else \"N/A\"\n",
    "    return player_values\n",
    "    "
   ]
  },
  {
   "cell_type": "code",
   "execution_count": 244,
   "metadata": {},
   "outputs": [],
   "source": [
    "cricketers = []\n",
    "for i in range(0,100):\n",
    "    # print(i)\n",
    "    player_url = base_url_player + cricketers_list[i][\"url\"]\n",
    "    response = requests.get(\n",
    "    url = player_url,\n",
    "    )\n",
    "    player_soup = soup(response.content, 'html.parser')\n",
    "    player_data = extract_player_data(player_soup) | extract_odi_data(player_soup)\n",
    "    cricketers.append(player_data)"
   ]
  },
  {
   "cell_type": "code",
   "execution_count": 240,
   "metadata": {},
   "outputs": [],
   "source": [
    "# print(cricketers)"
   ]
  },
  {
   "cell_type": "code",
   "execution_count": 241,
   "metadata": {},
   "outputs": [],
   "source": [
    "import tabulate\n",
    "dataset = cricketers\n",
    "header = dataset[0].keys()\n",
    "rows =  [x.values() for x in dataset]\n",
    "# print (tabulate.tabulate(rows, header))"
   ]
  },
  {
   "cell_type": "code",
   "execution_count": null,
   "metadata": {},
   "outputs": [],
   "source": []
  },
  {
   "cell_type": "code",
   "execution_count": null,
   "metadata": {},
   "outputs": [],
   "source": []
  },
  {
   "cell_type": "code",
   "execution_count": null,
   "metadata": {},
   "outputs": [],
   "source": []
  }
 ],
 "metadata": {
  "interpreter": {
   "hash": "1cf92cd971cc1b8af2aa66d33e64d70b604c3f84fab400acfa2263992fcda2d7"
  },
  "kernelspec": {
   "display_name": "Python 3.9.6 64-bit ('gpu2': conda)",
   "name": "python3"
  },
  "language_info": {
   "codemirror_mode": {
    "name": "ipython",
    "version": 3
   },
   "file_extension": ".py",
   "mimetype": "text/x-python",
   "name": "python",
   "nbconvert_exporter": "python",
   "pygments_lexer": "ipython3",
   "version": "3.9.6"
  },
  "orig_nbformat": 4
 },
 "nbformat": 4,
 "nbformat_minor": 2
}
