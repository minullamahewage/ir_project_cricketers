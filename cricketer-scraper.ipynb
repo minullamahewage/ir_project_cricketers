{
 "cells": [
  {
   "cell_type": "code",
   "execution_count": 41,
   "metadata": {},
   "outputs": [],
   "source": [
    "import requests\n",
    "from bs4 import BeautifulSoup as soup\n",
    "import os, time\n",
    "import json,re\n",
    "import random"
   ]
  },
  {
   "cell_type": "code",
   "execution_count": 42,
   "metadata": {},
   "outputs": [],
   "source": [
    "main_url = \"https://stats.espncricinfo.com/ci/engine/stats/index.html?class=11;filter=advanced;orderby=runs;size=150;team=8;template=results;type=batting\""
   ]
  },
  {
   "cell_type": "code",
   "execution_count": 43,
   "metadata": {},
   "outputs": [],
   "source": [
    "response = requests.get(\n",
    "    url = main_url,\n",
    ")\n",
    "\n",
    "main_soup = soup(response.content, 'html.parser')"
   ]
  },
  {
   "cell_type": "code",
   "execution_count": 44,
   "metadata": {},
   "outputs": [],
   "source": [
    "cricketers_list_raw = main_soup.find_all('tr', \"data1\")"
   ]
  },
  {
   "cell_type": "code",
   "execution_count": 53,
   "metadata": {},
   "outputs": [],
   "source": [
    "cricketers_list = []\n",
    "for i in range(0,100):\n",
    "    for x in cricketers_list_raw[i].find_all(\"a\", \"data-link\"):\n",
    "        cricketers_list.append({\"name\": x.getText(), \"url\": x.get(\"href\")})\n",
    "    "
   ]
  },
  {
   "cell_type": "code",
   "execution_count": 60,
   "metadata": {},
   "outputs": [],
   "source": [
    "# cricketers_list"
   ]
  },
  {
   "cell_type": "code",
   "execution_count": 55,
   "metadata": {},
   "outputs": [],
   "source": [
    "base_url_player = \"https://stats.espncricinfo.com/\""
   ]
  },
  {
   "cell_type": "code",
   "execution_count": 83,
   "metadata": {},
   "outputs": [],
   "source": [
    "def extract_player_data(soup):\n",
    "    player_card = soup.find_all('div', \"player_overview-grid\")\n",
    "    player_details_raw = player_card[0].find_all('div')\n",
    "    player_details = []\n",
    "    for detail in player_details_raw:\n",
    "        player_details.append({\"field\": detail.p.getText(), \"value\": detail.h5.getText()})\n",
    "    print(player_details)\n",
    "    "
   ]
  },
  {
   "cell_type": "code",
   "execution_count": 84,
   "metadata": {},
   "outputs": [
    {
     "name": "stdout",
     "output_type": "stream",
     "text": [
      "[{'field': 'Full Name', 'value': 'Kumar Chokshanada Sangakkara'}, {'field': 'Born', 'value': 'October 27, 1977, Matale'}, {'field': 'Age', 'value': '43y 361d'}, {'field': 'Batting Style', 'value': 'Left hand bat'}, {'field': 'Bowling Style', 'value': 'Right arm offbreak'}, {'field': 'Fielding Position', 'value': 'Wicketkeeper'}, {'field': 'Playing Role', 'value': 'Wicketkeeper batter'}]\n",
      "1\n"
     ]
    }
   ],
   "source": [
    "for p in cricketers_list:\n",
    "    player_url = base_url_player + p[\"url\"]\n",
    "    response = requests.get(\n",
    "    url = player_url,\n",
    "    )\n",
    "    player_soup = soup(response.content, 'html.parser')\n",
    "    extract_player_data(player_soup)\n",
    "    break"
   ]
  },
  {
   "cell_type": "code",
   "execution_count": null,
   "metadata": {},
   "outputs": [],
   "source": []
  }
 ],
 "metadata": {
  "interpreter": {
   "hash": "1cf92cd971cc1b8af2aa66d33e64d70b604c3f84fab400acfa2263992fcda2d7"
  },
  "kernelspec": {
   "display_name": "Python 3.9.6 64-bit ('gpu2': conda)",
   "name": "python3"
  },
  "language_info": {
   "codemirror_mode": {
    "name": "ipython",
    "version": 3
   },
   "file_extension": ".py",
   "mimetype": "text/x-python",
   "name": "python",
   "nbconvert_exporter": "python",
   "pygments_lexer": "ipython3",
   "version": "3.9.6"
  },
  "orig_nbformat": 4
 },
 "nbformat": 4,
 "nbformat_minor": 2
}
