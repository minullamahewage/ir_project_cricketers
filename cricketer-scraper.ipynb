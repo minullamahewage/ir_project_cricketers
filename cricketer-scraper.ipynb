{
 "cells": [
  {
   "cell_type": "code",
   "execution_count": 1,
   "metadata": {},
   "outputs": [],
   "source": [
    "import requests\n",
    "from bs4 import BeautifulSoup as soup\n",
    "import os, time\n",
    "import json,re\n",
    "import random"
   ]
  },
  {
   "cell_type": "code",
   "execution_count": 2,
   "metadata": {},
   "outputs": [],
   "source": [
    "main_url = \"https://stats.espncricinfo.com/ci/engine/stats/index.html?class=2;filter=advanced;orderby=matches;size=150;spanmin1=01+Jan+1980;spanval1=span;team=8;template=results;type=allround\""
   ]
  },
  {
   "cell_type": "code",
   "execution_count": 3,
   "metadata": {},
   "outputs": [],
   "source": [
    "response = requests.get(\n",
    "    url = main_url,\n",
    ")\n",
    "\n",
    "main_soup = soup(response.content, 'html.parser')"
   ]
  },
  {
   "cell_type": "code",
   "execution_count": 4,
   "metadata": {},
   "outputs": [],
   "source": [
    "cricketers_list_raw = main_soup.find_all('tr', \"data1\")"
   ]
  },
  {
   "cell_type": "code",
   "execution_count": 5,
   "metadata": {},
   "outputs": [],
   "source": [
    "cricketers_list = []\n",
    "for i in range(0,100):\n",
    "    for x in cricketers_list_raw[i].find_all(\"a\", \"data-link\"):\n",
    "        cricketers_list.append({\"name\": x.getText(), \"url\": x.get(\"href\")})\n",
    "    "
   ]
  },
  {
   "cell_type": "code",
   "execution_count": 6,
   "metadata": {},
   "outputs": [],
   "source": [
    "# cricketers_list"
   ]
  },
  {
   "cell_type": "code",
   "execution_count": 7,
   "metadata": {},
   "outputs": [],
   "source": [
    "base_url_player = \"https://stats.espncricinfo.com/\""
   ]
  },
  {
   "cell_type": "code",
   "execution_count": 8,
   "metadata": {},
   "outputs": [],
   "source": [
    "# Filter dictionary keeping necessary fields\n",
    "def filter_dict(di, keys):\n",
    "    if not isinstance(di, (dict, list)):\n",
    "        return di\n",
    "    if isinstance(di, list):\n",
    "        return [filter_dict(value, keys) for value in di]\n",
    "    return {key: filter_dict(value, keys) for key, value in di.items() if key in keys or isinstance(value, (dict, list))}\n"
   ]
  },
  {
   "cell_type": "code",
   "execution_count": 9,
   "metadata": {},
   "outputs": [],
   "source": [
    "player_data_keys = [\"id\", \"Full_Name\", \"Born\", \"Age\", \"Batting_Style\", \"Bowling_Style\", \"Playing_Role\", \"Education\"]\n",
    "def extract_player_data(soup, id):\n",
    "    player_card = soup.find_all('div', \"player_overview-grid\")\n",
    "    player_details_raw = player_card[0].find_all('div')\n",
    "    player_details = {}\n",
    "    player_details[\"id\"] = id\n",
    "    for detail in player_details_raw:\n",
    "        if(detail.p.getText() == \"Fielding Position\"):\n",
    "            continue\n",
    "        player_details[detail.p.getText().replace(\" \", \"_\")] = detail.h5.getText()\n",
    "    if(not \"Bowling_Style\" in player_details):\n",
    "        player_details[\"Bowling_Style\"] = \"N/A\"\n",
    "    if(not \"Playing_Role\" in player_details):\n",
    "        player_details[\"Playing_Role\"] = \"N/A\"\n",
    "    if(not \"Education\" in player_details):\n",
    "        player_details[\"Education\"] = \"N/A\"\n",
    "    # print(player_details[\"Full Name\"])\n",
    "    return filter_dict(player_details, player_data_keys)\n",
    "    "
   ]
  },
  {
   "cell_type": "code",
   "execution_count": 10,
   "metadata": {},
   "outputs": [],
   "source": [
    "def extract_odi_data(soup):\n",
    "    standings_card_raw = soup.find_all(\"div\", \"overflow-hidden\")\n",
    "    tables_raw_check = standings_card_raw[2].find_all(\"h5\")\n",
    "    \n",
    "    # Finding Batting and Bowling tables and extracting the table\n",
    "    for i in range (2):\n",
    "        if(tables_raw_check[i].getText()==\"Batting & Fielding\"):\n",
    "            batting_table_raw = tables_raw_check[i].find_next(\"table\", \"table standings-widget-table text-center mb-0 border-bottom\")\n",
    "        else:\n",
    "            bowling_table_raw = tables_raw_check[i].find_next(\"table\", \"table standings-widget-table text-center mb-0 border-bottom\")\n",
    "\n",
    "    player_values = {}\n",
    "    # Batting Values extraction\n",
    "    # Finding ODI row and extracting the row\n",
    "    batting_table_rows_raw = batting_table_raw.find(\"tbody\").find_all(\"tr\")\n",
    "    for row in batting_table_rows_raw:\n",
    "        if (row.find(\"span\").getText()==\"ODI\"):\n",
    "            batting_table_odi_row = row\n",
    "            break\n",
    "        else:\n",
    "            continue\n",
    "    batting_values_raw = batting_table_odi_row.find_all(\"span\")\n",
    "    player_values[\"Matches\"] = int(batting_values_raw[1].getText())\n",
    "    player_values[\"Runs\"] = int(batting_values_raw[4].getText())\n",
    "    player_values[\"Average\"] = float(batting_values_raw[6].getText())\n",
    "    player_values[\"Half-centuries\"] = int(batting_values_raw[10].getText())\n",
    "    player_values[\"Centuries\"] = int(batting_values_raw[9].getText())\n",
    "\n",
    "    # Bowling values extraction\n",
    "    # Finding ODI row and extracting the row\n",
    "    bowling_table_rows_raw = bowling_table_raw.find(\"tbody\").find_all(\"tr\")\n",
    "    for row in bowling_table_rows_raw:\n",
    "        if (row.find(\"span\").getText()==\"ODI\"):\n",
    "            bowling_table_odi_row = row\n",
    "            break\n",
    "        else:\n",
    "            continue\n",
    "    bowling_values_raw = bowling_table_odi_row.find_all(\"span\")\n",
    "    player_values[\"Wickets\"] = int(bowling_values_raw[5].getText()) if(bowling_values_raw[5].getText()!=\"-\") else 0\n",
    "    player_values[\"Economy\"] = float(bowling_values_raw[9].getText()) if(bowling_values_raw[9].getText()!=\"-\") else 0.0\n",
    "    return player_values\n",
    "    "
   ]
  },
  {
   "cell_type": "code",
   "execution_count": 11,
   "metadata": {},
   "outputs": [],
   "source": [
    "# Main Function\n",
    "cricketers = []\n",
    "for i in range(0,100):\n",
    "    # print(i)\n",
    "    player_url = base_url_player + cricketers_list[i][\"url\"]\n",
    "    response = requests.get(\n",
    "    url = player_url,\n",
    "    )\n",
    "    player_soup = soup(response.content, 'html.parser')\n",
    "    player_data = extract_player_data(player_soup, i) | extract_odi_data(player_soup)\n",
    "    cricketers.append(player_data)"
   ]
  },
  {
   "cell_type": "code",
   "execution_count": 87,
   "metadata": {},
   "outputs": [],
   "source": [
    "# print(cricketers)"
   ]
  },
  {
   "cell_type": "code",
   "execution_count": 57,
   "metadata": {},
   "outputs": [],
   "source": [
    "import pandas as pd\n",
    "\n",
    "my_dict = [ {'type' : 'type_1', 'prob' : 2, 'x_sum' : 3, 'y_sum' : 5},\n",
    " {'type' : 'type_2', 'prob' : 3, 'x_sum' : 8, 'y_sum' : 6}]\n",
    "\n",
    "df = pd.DataFrame(cricketers_si)\n",
    "from tabulate import tabulate\n",
    "pdtabulate=lambda df:tabulate(df,headers='keys',tablefmt='psql')\n",
    "# print(pdtabulate(df))\n"
   ]
  },
  {
   "cell_type": "code",
   "execution_count": 23,
   "metadata": {},
   "outputs": [],
   "source": [
    "# cric = []\n",
    "# for cricketer in cricketers:\n",
    "#     cric.append({k: cricketer[k] for k in cricketer.keys() & {'Batting Style', 'Bowling Style', 'Playing Role'}})\n",
    "\n",
    "# s = set( val for dic in cric for val in dic.values())\n",
    "\n",
    "# for x in s:                                \n",
    "    # print (x)\n",
    "# print (len(s)) "
   ]
  },
  {
   "cell_type": "code",
   "execution_count": 24,
   "metadata": {},
   "outputs": [],
   "source": [
    "# schools = []\n",
    "# for cricketer in cricketers:\n",
    "#     schools.append({k: cricketer[k] for k in cricketer.keys() & {'Education'}})\n",
    "\n",
    "# s2 = set( val for dic in schools for val in dic.values())\n",
    "\n",
    "# for x in s2:                                \n",
    "#     print (x)\n",
    "# print (len(s2)) "
   ]
  },
  {
   "cell_type": "code",
   "execution_count": 12,
   "metadata": {},
   "outputs": [],
   "source": [
    "si_batting_bowling_playing_role = {\"Left arm fast medium\":\"\",\n",
    "\"Slow left arm orthodox\":\"\",\n",
    "\"Right arm medium fast\": \"දකුණත් මද වේග පන්දු යවන\",\n",
    "\"Legbreak googly\": \"\", \n",
    "\"Legbreak\": \"පා දඟ පන්දු යවන\",\n",
    "\"Left arm medium fast\": \"වමත් මද වේග පන්දු යවන\",\n",
    "\"Top order batter\":  \"ඉදිරි පෙළ පිතිකරු\",\n",
    "\"Right hand bat\": \"දකුණත් පිතිකරු\",\n",
    "\"Right arm offbreak, Legbreak\": \"දකුණත් දඟ පන්දු හා පා දඟ පන්දු යවන\",\n",
    "\"Batter\":\"පිතිකරු\",\n",
    "\"Middle order batter\": \"මැද පෙළ පිතිකරු\",\n",
    "\"Left hand bat\": \"වමත් පිතිකරු\",\n",
    "\"Bowling allrounder\": \"පන්දු යවන තුන් ඉරියව් ක්‍රීඩක\",\n",
    "\"Bowler\":\"පන්දු යවන්නා\",\n",
    "\"Wicketkeeper batter\": \"කඩුලු රකින පිතිකරු\",\n",
    "\"Batting allrounder\": \"පිතිකරණ තුන් ඉරියව් ක්‍රීඩක\",\n",
    "\"Allrounder\": \"තුන් ඉරියව් ක්‍රීඩක\",\n",
    "\"Right arm medium\": \"දකුණත් මද පන්දු යවන\",\n",
    "\"Left arm medium, Slow left arm orthodox\": \"වමත් මද පන්දු යවන\",\n",
    "\"Right arm offbreak\": \"දකුණත් දඟ පන්දු යවන\",\n",
    "\"Right arm fast\": \"දකුණත් වේග පන්දු යවන\",\n",
    "\"Opening batter\": \"ආරම්භක පිතිකරු\",\n",
    "\"Right arm fast medium\": \"\"}"
   ]
  },
  {
   "cell_type": "code",
   "execution_count": 13,
   "metadata": {},
   "outputs": [],
   "source": [
    "si_schools = {\n",
    "    \"Royal College, Colombo\": \"රාජකීය විද්‍යාලය, කොළඹ\",\n",
    "\"Ananda College\": \"ආනන්ද විද්‍යාලය\",\n",
    "\"St. Joseph's College, Maradana\": \"සාන්ත ජෝසප් විද්‍යාලය, මරදාන\",\n",
    "\"St. Joseph's College Maradana\": \"සාන්ත ජෝසප් විද්‍යාලය, මරදාන\",\n",
    "\"Mahanama College, Colombo\": \"මහනාම විද්‍යාලය, කොළඹ\",\n",
    "\"Kalutara Vidyalaya\": \"කළුතර විද්‍යාලය\",\n",
    "\"St. Sebastian's College, Moratuwa\": \"සාන්ත සෙබස්තියන් විද්‍යාලය, මොරටුව\",\n",
    "\"Prince of Wales College, Moratuwa\": \"වේල්ස් කුමර විද්‍යාලය, මොරටුව\",\n",
    "\"Sri Sumangala College, Panadura\":\"ශ්‍රී සුමංගල විද්‍යාලය, පානදුර\",\n",
    "\"St. Annes College, Kurunegala\": \"සාන්ත ආනා විද්‍යාලය, කුරුණෑගල\",\n",
    "\"S' Thomas' College, Colombo\": \"සාන්ත තෝමස් විද්‍යාලය, කොළඹ\",\n",
    "\"Rahula College\": \"රාහුල විද්‍යාලය\",\n",
    "\"Ananda College, Colombo\": \"ආනන්ද විද්‍යාලය, කොළඹ\",\n",
    "\"St. Peters College - Negombo, Maristella College\": \"සාන්ත පීතර විද්‍යාලය, මාරිස් ස්ටෙලා විද්‍යාලය, මීගමුව\",\n",
    "\"Richmond College, Galle\": \"රිච්මන්ඩ් විද්‍යාලය, ගාල්ල\",\n",
    "\"St. Peter's College\": \"සාන්ත පීතර විද්‍යාලය\",\n",
    "\"St. Peters College, Colombo\": \"සාන්ත පීතර විද්‍යාලය\",\n",
    "\"Maliyadewa College, Kurunegala\": \"මලියදේව විද්‍යාලය, කුරුණෑගල\",\n",
    "\"St. Joseph's College, Colombo\": \"සාන්ත ජෝසප් විද්‍යාලය, කොළඹ\",\n",
    "\"Mahanama Vidyalaya, Panadura\": \"මහනාම විද්‍යාලය, පානදුර\",\n",
    "\"Nalanda College, Colombo\": \"නාලන්ද විද්‍යාලය, කොළඹ\",\n",
    "\"De Mazenod College, Kandana\": \"ද මස්නෝද් විද්‍යාලය, කඳාන\",\n",
    "\"St Anthony's College, Kandy\": \"සාන්ත අන්තෝනි විද්‍යාලය, මහනුවර\",\n",
    "\"Debarawewa Central Hambantota, Mahanama College Colombo, Richmond College, Galle\": \"දෙබරවැව මධ්‍ය මහා විද්‍යාලය හම්බන්තොට, මහනාම විද්‍යාලය කොළඹ, රිච්මන්ඩ් විද්‍යාලය ගාල්ල\",\n",
    "\"Rewatha College, Balapitiya\": \"රේවත විද්‍යාලය, බලපිටිය\",\n",
    "\"Rahula College, Matara\":  \"රාහුල විද්‍යාලය, මාතර\",\n",
    "\"Maris Stella College\": \"මාරිස් ස්ටෙලා විද්‍යාලය\",\n",
    "\"Trinity College, Kandy\": \"ත්‍රිත්ව විද්‍යාලය, මහනුවර\",\n",
    "\"St. Aloysius' College, Galle\": \"සාන්ත ඇලෝසියස් විද්‍යාලය, ගාල්ල\",\n",
    "\"St. Mary's College, Chilaw\": \"සාන්ත මරියා විද්‍යාලය, හලාවත\",\n",
    "\"Vidhyaloka Maha Vidyalaya, Katana\": \"විද්‍යාලෝක මහා විද්‍යාලය, කටාන\",\n",
    "\"Ananda Sastralaya, Kotte\": \"ආනන්ද ශාස්ත්‍රාලය, කෝට්ටේ\",\n",
    "\"St. John's College, Panadura\": \"සාන්ත ජෝන් විද්‍යාලය, පානදුර\",\n",
    "}\n"
   ]
  },
  {
   "cell_type": "code",
   "execution_count": 14,
   "metadata": {},
   "outputs": [],
   "source": [
    "cricketers_si = []\n",
    "for i in range(0,100):\n",
    "    cricketers_si.append({key: si_batting_bowling_playing_role.get(value, value) for key, value in cricketers[i].items()})\n",
    "    cricketers_si[i][\"Player_Bio\"] = \"ක්රීඩකයාගේ භූමිකාව: \"+ cricketers_si[i][\"Playing_Role\"] + \". ඔහුගේ පිතිකරණ රටාව: \"+ cricketers_si[i][\"Batting_Style\"] + \". ඔහුගේ පන්දු යැවීමේ විලාසය: \"+ cricketers_si[i][\"Bowling_Style\"] + \".\"\n",
    "\n",
    "for i in range(0,100):\n",
    "    cricketers_si[i] = {key: si_schools.get(value, value) for key, value in cricketers_si[i].items()}\n",
    "\n",
    "    "
   ]
  },
  {
   "cell_type": "code",
   "execution_count": 15,
   "metadata": {},
   "outputs": [],
   "source": [
    "from google.transliteration import transliterate_text\n",
    "def translate_to_sinhala(value):\n",
    "\tresult = transliterate_text(value, lang_code='si')\n",
    "\treturn result"
   ]
  },
  {
   "cell_type": "code",
   "execution_count": 16,
   "metadata": {},
   "outputs": [],
   "source": [
    "for i in range(100):\n",
    "    cricketers_si[i][\"Full_Name_si\"] = translate_to_sinhala(cricketers_si[i][\"Full_Name\"])"
   ]
  },
  {
   "cell_type": "code",
   "execution_count": 17,
   "metadata": {},
   "outputs": [],
   "source": [
    "import json\n",
    "with open('cricketers.json', 'w', encoding='utf-8') as f:\n",
    "    json.dump(cricketers_si, f, ensure_ascii=False, indent=4)"
   ]
  },
  {
   "cell_type": "code",
   "execution_count": null,
   "metadata": {},
   "outputs": [],
   "source": []
  }
 ],
 "metadata": {
  "interpreter": {
   "hash": "1cf92cd971cc1b8af2aa66d33e64d70b604c3f84fab400acfa2263992fcda2d7"
  },
  "kernelspec": {
   "display_name": "Python 3.9.6 64-bit ('gpu2': conda)",
   "name": "python3"
  },
  "language_info": {
   "codemirror_mode": {
    "name": "ipython",
    "version": 3
   },
   "file_extension": ".py",
   "mimetype": "text/x-python",
   "name": "python",
   "nbconvert_exporter": "python",
   "pygments_lexer": "ipython3",
   "version": "3.9.6"
  },
  "orig_nbformat": 4
 },
 "nbformat": 4,
 "nbformat_minor": 2
}
